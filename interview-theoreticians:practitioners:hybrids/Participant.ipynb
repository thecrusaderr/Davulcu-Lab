{
  "cells": [
    {
      "cell_type": "code",
      "execution_count": null,
      "metadata": {
        "colab": {
          "base_uri": "https://localhost:8080/"
        },
        "id": "3ib6FlXEe7A4",
        "outputId": "2a11554b-03b3-4aa9-a132-e287a05f98de"
      },
      "outputs": [],
      "source": [
        "import re\n",
        "\n",
        "with open('/content/Interview_Claims.txt', 'r', encoding='utf-8') as file:\n",
        "    text = file.read()\n",
        "claims = re.split(r'(?<=[.!?])\\s+', text.strip())\n",
        "claims = [sentence.strip() for sentence in claims if sentence.strip()]\n"
      ]
    },
    {
      "cell_type": "code",
      "execution_count": null,
      "metadata": {
        "colab": {
          "base_uri": "https://localhost:8080/"
        },
        "id": "06vuA9RUe_eD",
        "outputId": "6455f67f-f8d2-449f-b640-350cedf7d894"
      },
      "outputs": [],
      "source": [
        "from openai import OpenAI\n",
        "import os\n",
        "import json\n",
        "import time\n",
        "\n",
        "openai = OpenAI(api_key=\"Enter Key\")\n",
        "\n",
        "file_resp = openai.files.create(\n",
        "    file=open(\"/content/Participant.pdf\", \"rb\"),\n",
        "    purpose=\"assistants\"\n",
        ")\n",
        "\n",
        "file_id = file_resp.id\n",
        "print(\"File uploaded. ID:\", file_id)\n"
      ]
    },
    {
      "cell_type": "code",
      "execution_count": null,
      "metadata": {
        "colab": {
          "base_uri": "https://localhost:8080/"
        },
        "id": "7Je9ILlgfBT9",
        "outputId": "cb4014f0-61e7-4476-e458-8bae07792d24"
      },
      "outputs": [],
      "source": [
        "import pandas as pd\n",
        "import io\n",
        "rows = []\n",
        "\n",
        "\n",
        "prompt=\"\"\"You are given:\n",
        "  - A PDF file containing an interview transcript of a participant.\n",
        "  Your task:\n",
        "  1. Carefully analyze the participant’s personality, worldview, tone, and overall patterns of responses from the interview transcript. Identify recurring themes, values, and tendencies that shape their stance on issues.\n",
        "  2. For the claim given to you, predict whether the participant would likely Support or Oppose or No Clear Evidence for the claim — even if they did not explicitly address it.\n",
        "  3. Provide an evidence-based justification for your prediction. Connect your reasoning to:\n",
        "  - Recurring themes and values in the interview,\n",
        "  - Their personality traits (e.g., optimism, skepticism, openness),\n",
        "  - Signaling terms or tone that reveal their stance.\n",
        "  Output:\n",
        "  Return a JSON object with the following keys:\n",
        "  {\n",
        "    \"Claim\": \"original claim text\",\n",
        "    \"Stance\": \"Support / Oppose / No Clear Evidence\",\n",
        "    \"Evidence\": \"Justification connecting prediction to participant’s interview traits, worldview, tone, and signaling terms\"\n",
        "  } \\n\n",
        " \"\"\"\n",
        "for claim in claims:\n",
        "  \n",
        "  \n",
        "  question = prompt + \"Given Claim: \" + claim\n",
        "\n",
        "  #question = prompt + \"Given Claim : Some participants are unsure what values theoreticians hold.\"\n",
        "\n",
        "  resp = openai.responses.create(\n",
        "      model=\"gpt-4.1\",   # or the correct model / deployment name\n",
        "      input=[\n",
        "          {\n",
        "              \"role\": \"user\",\n",
        "              \"content\": [\n",
        "                  {\n",
        "                      \"type\": \"input_file\",\n",
        "                      \"file_id\": file_id\n",
        "                  },\n",
        "                  {\n",
        "                      \"type\": \"input_text\",\n",
        "                      \"text\": question\n",
        "                  }\n",
        "              ]\n",
        "          }\n",
        "      ]\n",
        "  )\n",
        "\n",
        "  print(\"Response:\")\n",
        "  print(resp.output_text)\n",
        "  response_text = resp.output_text.strip()\n",
        "  if response_text.startswith(\"```json\"):\n",
        "    response_text = response_text.lstrip(\"```json\").strip()\n",
        "  if response_text.startswith(\"```\"):\n",
        "    response_text = response_text.lstrip(\"```\").strip()\n",
        "  if response_text.endswith(\"```\"):\n",
        "    response_text = response_text.rstrip(\"```\").strip()\n",
        "  response_text = re.sub(r',(\\s*[}\\]])', r'\\1', response_text)\n",
        "\n",
        "  result = json.loads(response_text)\n",
        "  rows.append(result)\n",
        "  \n",
        "\n",
        "\n",
        "\n",
        "df = pd.DataFrame(rows)\n",
        "\n",
        "\n",
        "df.to_csv(\"Participant.csv\", index=False)\n",
        "\n",
        "print(\"Saved to Participant.csv\")\n"
      ]
    },
    {
      "cell_type": "code",
      "execution_count": null,
      "metadata": {
        "id": "KstoIaOefDDV"
      },
      "outputs": [],
      "source": []
    },
    {
      "cell_type": "code",
      "execution_count": null,
      "metadata": {
        "id": "s03I3tJjfDFw"
      },
      "outputs": [],
      "source": []
    },
    {
      "cell_type": "code",
      "execution_count": null,
      "metadata": {
        "id": "rlEjGIaxfDIa"
      },
      "outputs": [],
      "source": []
    },
    {
      "cell_type": "code",
      "execution_count": null,
      "metadata": {
        "id": "Ck2DRu8bfDK-"
      },
      "outputs": [],
      "source": []
    },
    {
      "cell_type": "code",
      "execution_count": null,
      "metadata": {
        "id": "Ykk2EHhdfDNn"
      },
      "outputs": [],
      "source": []
    },
    {
      "cell_type": "code",
      "execution_count": null,
      "metadata": {
        "id": "0PVmKc0ifDQC"
      },
      "outputs": [],
      "source": []
    }
  ],
  "metadata": {
    "colab": {
      "provenance": []
    },
    "kernelspec": {
      "display_name": "Python 3",
      "name": "python3"
    },
    "language_info": {
      "name": "python"
    }
  },
  "nbformat": 4,
  "nbformat_minor": 0
}
