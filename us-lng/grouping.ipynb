{
 "cells": [
  {
   "cell_type": "code",
   "execution_count": null,
   "metadata": {},
   "outputs": [],
   "source": [
    "import pandas as pd\n",
    "import pickle"
   ]
  },
  {
   "cell_type": "code",
   "execution_count": null,
   "metadata": {},
   "outputs": [],
   "source": [
    "dataset=\"datasets/\""
   ]
  },
  {
   "cell_type": "code",
   "execution_count": 2,
   "metadata": {},
   "outputs": [],
   "source": [
    "import os\n",
    "import pandas as pd\n",
    "\n",
    "def load_and_process_data(folder_path):\n",
    "    csv_files = [os.path.join(folder_path, file) for file in os.listdir(folder_path) if file.endswith('.csv')]\n",
    "    print(len(csv_files))\n",
    "    print(csv_files)\n",
    "    df = pd.concat([pd.read_csv(file) for file in csv_files], ignore_index=True)\n",
    "    print(df[\"lang\"].value_counts())\n",
    "    print(df[\"post_type\"].value_counts())\n",
    "    print(df.shape)\n",
    "    df = df[df[\"lang\"] == \"en\"]\n",
    "    print(df.shape)\n",
    "    df = df[df[\"post_type\"] != '0']\n",
    "    print(df.shape)\n",
    "    df = df[df[\"post_type\"] != '1']\n",
    "    print(df.shape)\n",
    "    df = df.drop_duplicates(subset='item_id', keep='first')\n",
    "    print(df.shape)\n",
    "    return df\n"
   ]
  },
  {
   "cell_type": "code",
   "execution_count": null,
   "metadata": {},
   "outputs": [],
   "source": [
    "df = load_and_process_data(dataset)"
   ]
  },
  {
   "cell_type": "code",
   "execution_count": null,
   "metadata": {},
   "outputs": [],
   "source": [
    "df_unique = df[['content']].drop_duplicates().reset_index(drop=True)\n"
   ]
  },
  {
   "cell_type": "code",
   "execution_count": 10,
   "metadata": {},
   "outputs": [
    {
     "data": {
      "application/vnd.jupyter.widget-view+json": {
       "model_id": "9ce22c117f2b4c5f9c87ec3fc5bdf4ac",
       "version_major": 2,
       "version_minor": 0
      },
      "text/plain": [
       "model.safetensors:   0%|          | 0.00/440M [00:00<?, ?B/s]"
      ]
     },
     "metadata": {},
     "output_type": "display_data"
    },
    {
     "name": "stderr",
     "output_type": "stream",
     "text": [
      "100%|██████████| 338602/338602 [39:05<00:00, 144.37it/s]\n"
     ]
    },
    {
     "name": "stdout",
     "output_type": "stream",
     "text": [
      "Embeddings saved to content_embeddings.pkl\n"
     ]
    }
   ],
   "source": [
    "from transformers import BertTokenizer, BertModel\n",
    "import torch\n",
    "from tqdm import tqdm\n",
    "\n",
    "model_name = 'bert-base-uncased'\n",
    "tokenizer = BertTokenizer.from_pretrained(model_name)\n",
    "model = BertModel.from_pretrained(model_name)\n",
    "\n",
    "device = torch.device(\"cuda\" if torch.cuda.is_available() else \"cpu\")\n",
    "model.to(device)\n",
    "\n",
    "def get_embedding(text):\n",
    "    inputs = tokenizer(text, return_tensors=\"pt\", padding=True, truncation=True).to(device)\n",
    "    with torch.no_grad():\n",
    "        outputs = model(**inputs)\n",
    "    return outputs.last_hidden_state.mean(dim=1).cpu().numpy().flatten()\n",
    "\n",
    "embeddings = []\n",
    "for text in tqdm(df_unique['content']):\n",
    "    embeddings.append(get_embedding(text))\n",
    "\n",
    "\n",
    "embedding_file = \"content_embeddings.pkl\"\n",
    "pickle.dump(list(zip(df_unique['content'], embeddings)), open(embedding_file, 'wb'))\n",
    "\n",
    "print(f\"Embeddings saved to {embedding_file}\")\n"
   ]
  },
  {
   "cell_type": "code",
   "execution_count": 1,
   "metadata": {},
   "outputs": [
    {
     "name": "stdout",
     "output_type": "stream",
     "text": [
      "Loaded embeddings from content_embeddings.pkl\n"
     ]
    }
   ],
   "source": [
    "import numpy as np\n",
    "import pickle\n",
    "embedding_file = \"content_embeddings.pkl\"\n",
    "content_embeddings = pickle.load(open(embedding_file, 'rb'))\n",
    "\n",
    "\n",
    "X = np.array([emb for _, emb in content_embeddings])\n",
    "content_texts = [text for text, _ in content_embeddings]\n",
    "\n",
    "print(f\"Loaded embeddings from {embedding_file}\")\n"
   ]
  },
  {
   "cell_type": "code",
   "execution_count": null,
   "metadata": {},
   "outputs": [],
   "source": [
    "import pickle\n",
    "import pandas as pd\n",
    "import numpy as np\n",
    "from sklearn.cluster import MiniBatchKMeans\n",
    "from sklearn.decomposition import PCA\n",
    "\n",
    "pca = PCA(n_components=3, random_state=42)\n",
    "X_reduced = pca.fit_transform(X)\n",
    "\n",
    "best_k = 60\n",
    "kmeans = MiniBatchKMeans(n_clusters=best_k, random_state=42, batch_size=1024, n_init='auto')\n",
    "labels = kmeans.fit_predict(X_reduced)\n",
    "\n",
    "df_clustered = pd.DataFrame({'content': content_texts, 'cluster': labels})\n",
    "\n",
    "cluster_file = \"final_clustered_tweets.pkl\"\n",
    "pickle.dump(df_clustered, open(cluster_file, 'wb'))\n",
    "\n",
    "top_texts = []\n",
    "for cluster_num in range(best_k):\n",
    "    cluster_indices = np.where(labels == cluster_num)[0]\n",
    "    cluster_texts = [content_texts[i] for i in cluster_indices]\n",
    "    cluster_embeddings = X_reduced[cluster_indices]\n",
    "    centroid = kmeans.cluster_centers_[cluster_num].reshape(1, -1)\n",
    "    distances = np.linalg.norm(cluster_embeddings - centroid, axis=1)\n",
    "    closest_texts = [cluster_texts[i] for i in np.argsort(distances)[:100]]\n",
    "    print(f\"Cluster {cluster_num}: {len(closest_texts)} texts selected\")\n",
    "    for text in closest_texts:\n",
    "        top_texts.append({'cluster': cluster_num, 'content': text})\n",
    "\n",
    "df_top_texts = pd.DataFrame(top_texts)\n",
    "top_texts_file = \"top_100_texts_per_cluster.pkl\"\n",
    "pickle.dump(df_top_texts, open(top_texts_file, 'wb'))"
   ]
  }
 ],
 "metadata": {
  "kernelspec": {
   "display_name": "my_env4",
   "language": "python",
   "name": "python3"
  },
  "language_info": {
   "codemirror_mode": {
    "name": "ipython",
    "version": 3
   },
   "file_extension": ".py",
   "mimetype": "text/x-python",
   "name": "python",
   "nbconvert_exporter": "python",
   "pygments_lexer": "ipython3",
   "version": "3.11.6"
  }
 },
 "nbformat": 4,
 "nbformat_minor": 2
}
